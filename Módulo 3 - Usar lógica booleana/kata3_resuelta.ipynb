{
 "cells": [
  {
   "cell_type": "markdown",
   "metadata": {},
   "source": [
    "# Un asteroide se acerca, y viaja a una velocidad de 49 km/s."
   ]
  },
  {
   "cell_type": "code",
   "execution_count": 10,
   "metadata": {},
   "outputs": [
    {
     "name": "stdout",
     "output_type": "stream",
     "text": [
      "ADVERTENCIA LA VELOCIDAD DEL ASTEROIDE ES: 49 km/s FAVOR DE ADVERTIR A TODOS!!\n"
     ]
    }
   ],
   "source": [
    "#Definimos la variable asteroide con el valor de la velocidad dada que es: 49 \n",
    "asteroide = 49\n",
    "#Definimos la varibale velMaxima que es la velocidad maxima para la advertencia\n",
    "velMaxima = 25\n",
    "\n",
    "#Creamos condicional\n",
    "\n",
    "if asteroide <= velMaxima:\n",
    "    print(\"La velocidad del asteroide es: \" + str(asteroide))\n",
    "else:\n",
    "    print(\"ADVERTENCIA LA VELOCIDAD DEL ASTEROIDE ES: \" + str(asteroide) + \" km/s\" + \" FAVOR DE ADVERTIR A TODOS!!\")\n"
   ]
  },
  {
   "cell_type": "markdown",
   "metadata": {},
   "source": [
    "# Ejercicio 2"
   ]
  },
  {
   "cell_type": "code",
   "execution_count": 11,
   "metadata": {},
   "outputs": [
    {
     "name": "stdout",
     "output_type": "stream",
     "text": [
      "No es necesario salir, el asteroide no dejara estela de luz\n"
     ]
    }
   ],
   "source": [
    "asteroideActual = 19\n",
    "#Velocidad para producir un rayo de luz\n",
    "rayoLuz = 20\n",
    "\n",
    "#Condicional\n",
    "if asteroideActual >= rayoLuz:\n",
    "    print(\"Salga a ver la estela de luz del asteroide\")\n",
    "else:\n",
    "    print(\"No es necesario salir, el asteroide no dejara estela de luz\")"
   ]
  },
  {
   "cell_type": "markdown",
   "metadata": {},
   "source": [
    "# Uso de operadores and y or"
   ]
  },
  {
   "cell_type": "code",
   "execution_count": 35,
   "metadata": {},
   "outputs": [
    {
     "name": "stdout",
     "output_type": "stream",
     "text": [
      "El asteroide se quemara cuando entre a la tierra\n",
      "El asteroide se desintegrara\n"
     ]
    }
   ],
   "source": [
    "#Entrada tamanio\n",
    "tamanioActual = 24\n",
    "#entrada velocidad\n",
    "velActual = 1\n",
    "\n",
    "#Condicionales\n",
    "\n",
    "if tamanioActual > 25 and tamanioActual < 1000:\n",
    "    print(\"Busque refugio, gran asteroide impactara causando danios severos\")\n",
    "    if velActual > 20 or velActual <= 25:\n",
    "        print(\"PODRA VER UN RAYO DE LUZ DEL ASTEROIDE, PERO MEJOR BUSQUE DONDE ESCONDERSE\")\n",
    "\n",
    "elif tamanioActual < 25:\n",
    "    print(\"El asteroide se quemara cuando entre a la tierra\")\n",
    "    if velActual > 20 and velActual <= 25:\n",
    "        print(\"PODRA VER UN RAYO DE LUZ DEL ASTEROIDE\")\n",
    "    else:\n",
    "        print(\"El asteroide se desintegrara\")\n"
   ]
  }
 ],
 "metadata": {
  "interpreter": {
   "hash": "b1fff2dcd6c25075ae81684535b0dce057eba6fffd0b19ed75a540af42201fab"
  },
  "kernelspec": {
   "display_name": "Python 3.10.2 64-bit",
   "language": "python",
   "name": "python3"
  },
  "language_info": {
   "codemirror_mode": {
    "name": "ipython",
    "version": 3
   },
   "file_extension": ".py",
   "mimetype": "text/x-python",
   "name": "python",
   "nbconvert_exporter": "python",
   "pygments_lexer": "ipython3",
   "version": "3.10.2"
  },
  "orig_nbformat": 4
 },
 "nbformat": 4,
 "nbformat_minor": 2
}
