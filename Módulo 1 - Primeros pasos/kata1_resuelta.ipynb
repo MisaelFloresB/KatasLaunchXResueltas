{
 "cells": [
  {
   "cell_type": "markdown",
   "metadata": {},
   "source": [
    "# Tu primer programa\n",
    "\n",
    "Ejercicio 1, kata 1"
   ]
  },
  {
   "cell_type": "code",
   "execution_count": 3,
   "metadata": {},
   "outputs": [
    {
     "name": "stdout",
     "output_type": "stream",
     "text": [
      "Today's date is: 2022-02-06\n",
      "Today's date is: 2022-02-06\n"
     ]
    }
   ],
   "source": [
    "#Importamos date y lo asignamos como fecha\n",
    "from datetime import date as fecha\n",
    "\n",
    "#Asignamos a la variable fechaActual el valor de today\n",
    "fechaActual = fecha.today()\n",
    "\n",
    "#Imprimimos la fecha de hoy, primer forma\n",
    "print(\"Today's date is: \" + str(fechaActual))\n",
    "\n",
    "#Imprimimos la fecha de hoy, segunda forma (Sin la variable fechaActual)\n",
    "print(\"Today's date is: \" + str(fecha.today()))"
   ]
  },
  {
   "cell_type": "markdown",
   "metadata": {},
   "source": [
    "# Ejercicio 2, kata 1\n",
    "\n",
    "Construir un convertidos de unidades"
   ]
  },
  {
   "cell_type": "code",
   "execution_count": 5,
   "metadata": {},
   "outputs": [
    {
     "name": "stdout",
     "output_type": "stream",
     "text": [
      "11 parsec, is 35.877159999999996 lightyears\n"
     ]
    }
   ],
   "source": [
    "#Variable con el numero de parsec a calcular\n",
    "parsec = 11\n",
    "#Variable parsec multiplicada por el valor de un parsec en años luz\n",
    "lightyears = parsec * 3.26156\n",
    "\n",
    "#Impresion del resultado\n",
    "print(str(parsec) + \" parsec, is \" + str(lightyears) + \" lightyears\")"
   ]
  }
 ],
 "metadata": {
  "interpreter": {
   "hash": "b1fff2dcd6c25075ae81684535b0dce057eba6fffd0b19ed75a540af42201fab"
  },
  "kernelspec": {
   "display_name": "Python 3.10.2 64-bit",
   "language": "python",
   "name": "python3"
  },
  "language_info": {
   "codemirror_mode": {
    "name": "ipython",
    "version": 3
   },
   "file_extension": ".py",
   "mimetype": "text/x-python",
   "name": "python",
   "nbconvert_exporter": "python",
   "pygments_lexer": "ipython3",
   "version": "3.10.2"
  },
  "orig_nbformat": 4
 },
 "nbformat": 4,
 "nbformat_minor": 2
}
