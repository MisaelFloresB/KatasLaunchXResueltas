{
 "cells": [
  {
   "cell_type": "markdown",
   "metadata": {},
   "source": [
    "# Ejercicio 1: Trabajar con argumentos en funciones"
   ]
  },
  {
   "cell_type": "code",
   "execution_count": null,
   "metadata": {},
   "outputs": [],
   "source": [
    "#Definimos la funcion combustible\n",
    "def informes(tanque1, tanque2, tanque3):\n",
    "    sumaCombustible = tanque1 + tanque2 + tanque3\n",
    "    promedio = sumaCombustible/3\n",
    "\n",
    "    return f\"\"\"informe\n",
    "    combustible: {promedio}\n",
    "    tanque1: {tanque1}\n",
    "    tanque2: {tanque2}\n",
    "    tanque:3 {tanque3}\n",
    "    \"\"\"\n",
    "\n",
    "print(informes(40,30,15))\n",
    "\n",
    "def promedio2(values):\n",
    "    sum_values = sum(values)\n",
    "    nValues = len(values)\n",
    "    return sum_values/nValues\n",
    "\n",
    "#promedio2([40,30,15])\n",
    "\n",
    "def informes2(tanque1, tanque2, tanque3):\n",
    "    return f\"\"\"Informe:\n",
    "    combustible: {promedio2([tanque1, tanque2, tanque3])}\n",
    "    tanque 1:{tanque1}\n",
    "    tanque 2:{tanque2}\n",
    "    tanque 3:{tanque3}\n",
    "    \"\"\"\n",
    "print(informes2(40,30,15),'Actualizado')\n",
    "\n"
   ]
  },
  {
   "cell_type": "markdown",
   "metadata": {},
   "source": [
    "# Ejercicio 2: Trabajo con argumentos de palabra clave"
   ]
  },
  {
   "cell_type": "code",
   "execution_count": 80,
   "metadata": {},
   "outputs": [
    {
     "name": "stdout",
     "output_type": "stream",
     "text": [
      "Venus Mission:\n",
      "    total Fly time: 65\n",
      "    totalTanks: 96000\n",
      "    \n",
      "\n",
      "    Venus Moon\n",
      "    Total travel time: 9 hours\n",
      "    Total fuel left: 8000\n",
      "    \n",
      "Venus Moon\n",
      "    Total travel time: 9 hours\n",
      "    Total fuel left: 8000internal: 2000\n"
     ]
    }
   ],
   "source": [
    "def infMision(hourLaunch,flyTime,des,external_tank,internal_tank):\n",
    "    return f\"\"\"{des} Mission:\n",
    "    total Fly time: {hourLaunch + flyTime}\n",
    "    totalTanks: {external_tank + internal_tank}\n",
    "    \"\"\"\n",
    "print(infMision(10,55,'Venus',56000,40000))"
   ]
  },
  {
   "cell_type": "code",
   "execution_count": 81,
   "metadata": {},
   "outputs": [
    {
     "name": "stdout",
     "output_type": "stream",
     "text": [
      "\n",
      "    Venus Moon\n",
      "    Total travel time: 9 hours\n",
      "    Total fuel left: 8000\n",
      "    \n"
     ]
    }
   ],
   "source": [
    "def aditionalInfo(destination, *hour, **aditional_reservoirs):\n",
    "    #print(aditional_reservoirs)\n",
    "    return f\"\"\"\n",
    "    {destination} Moon\n",
    "    Total travel time: {sum(hour)} hours\n",
    "    Total fuel left: {sum(aditional_reservoirs.values())}\n",
    "    \"\"\"\n",
    "print(aditionalInfo('Venus',5,4,internal= 2000, external = 6000))"
   ]
  },
  {
   "cell_type": "code",
   "execution_count": 91,
   "metadata": {},
   "outputs": [
    {
     "name": "stdout",
     "output_type": "stream",
     "text": [
      "Venus Moon\n",
      "    Total travel time: 9 hours\n",
      "    Total fuel left: 8000, internal:2000, external:6000,\n"
     ]
    }
   ],
   "source": [
    "def aditionalInfo2(destination, *hour, **aditional_reservoirs):\n",
    "    report= f\"\"\"{destination} Moon\n",
    "    Total travel time: {sum(hour)} hours\n",
    "    Total fuel left: {sum(aditional_reservoirs.values())},\"\"\"\n",
    "\n",
    "    for title, name in aditional_reservoirs.items():\n",
    "        report += f\"\"\" {title}:{name},\"\"\"\n",
    "    return report\n",
    "        \n",
    "print(aditionalInfo2('Venus',5,4,internal= 2000, external = 6000))\n"
   ]
  }
 ],
 "metadata": {
  "interpreter": {
   "hash": "b1fff2dcd6c25075ae81684535b0dce057eba6fffd0b19ed75a540af42201fab"
  },
  "kernelspec": {
   "display_name": "Python 3.10.2 64-bit",
   "language": "python",
   "name": "python3"
  },
  "language_info": {
   "codemirror_mode": {
    "name": "ipython",
    "version": 3
   },
   "file_extension": ".py",
   "mimetype": "text/x-python",
   "name": "python",
   "nbconvert_exporter": "python",
   "pygments_lexer": "ipython3",
   "version": "3.10.2"
  },
  "orig_nbformat": 4
 },
 "nbformat": 4,
 "nbformat_minor": 2
}
