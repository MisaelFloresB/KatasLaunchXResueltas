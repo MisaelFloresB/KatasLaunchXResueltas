{
 "cells": [
  {
   "cell_type": "markdown",
   "metadata": {},
   "source": [
    "# Ejercicio 1"
   ]
  },
  {
   "cell_type": "code",
   "execution_count": null,
   "metadata": {},
   "outputs": [],
   "source": [
    "#Creamos la lista de planetas\n",
    "planets = ['Mercury', 'Venus', 'Earth', 'Mars', 'Jupiter', 'Saturn', 'Uranus', 'Neptune']\n",
    "print(planets)\n",
    "#agregamos pluton a la lista\n",
    "ninethPlanet = planets + ['pluto']\n",
    "print(f\"Milky Way have {len(ninethPlanet)} planets,\", \"the last one is:\", ninethPlanet[8])\n"
   ]
  },
  {
   "cell_type": "markdown",
   "metadata": {},
   "source": [
    "# Ejercicio 2"
   ]
  },
  {
   "cell_type": "code",
   "execution_count": 27,
   "metadata": {},
   "outputs": [
    {
     "name": "stdout",
     "output_type": "stream",
     "text": [
      "Your planet is the 6 from the sun\n",
      "Closer planets than: Saturn ['Mercury', 'Venus', 'Earth', 'Mars', 'Jupiter']\n",
      "planets further than: Saturn ['Neptune']\n"
     ]
    }
   ],
   "source": [
    "planets = ['Mercury', 'Venus', 'Earth', 'Mars', 'Jupiter', 'Saturn', 'Neptune']\n",
    "\n",
    "#Input para solicitar el nombre de un planeta\n",
    "planet = input(\"Write a planet name, please write the first word in upper case\")\n",
    "#Variable que guarda la posicion del planeta introducido\n",
    "planetfinded = planets.index(planet)\n",
    "#Imprimimos el valor\n",
    "print(f\"Your planet is the {planetfinded + 1} from the sun\")\n",
    "\n",
    "#Buscamos los planetas que estan antes del planeta introducido\n",
    "planetsBefore = planets[0:planetfinded]\n",
    "print(f\"Closer planets than: {planet}\", planetsBefore)\n",
    "#Buscamos los planetas que estan despues del planeta introducido\n",
    "planetsAfter = planets[planetfinded + 1:8]\n",
    "print(f\"planets further than: {planet}\", planetsAfter)"
   ]
  }
 ],
 "metadata": {
  "interpreter": {
   "hash": "b1fff2dcd6c25075ae81684535b0dce057eba6fffd0b19ed75a540af42201fab"
  },
  "kernelspec": {
   "display_name": "Python 3.10.2 64-bit",
   "language": "python",
   "name": "python3"
  },
  "language_info": {
   "codemirror_mode": {
    "name": "ipython",
    "version": 3
   },
   "file_extension": ".py",
   "mimetype": "text/x-python",
   "name": "python",
   "nbconvert_exporter": "python",
   "pygments_lexer": "ipython3",
   "version": "3.10.2"
  },
  "orig_nbformat": 4
 },
 "nbformat": 4,
 "nbformat_minor": 2
}
