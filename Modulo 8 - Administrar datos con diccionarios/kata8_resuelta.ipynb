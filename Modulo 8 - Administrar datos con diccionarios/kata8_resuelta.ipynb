{
 "cells": [
  {
   "cell_type": "markdown",
   "metadata": {},
   "source": [
    "# Ejercicio 1: Creación de diccionarios de Python"
   ]
  },
  {
   "cell_type": "code",
   "execution_count": 26,
   "metadata": {},
   "outputs": [
    {
     "name": "stdout",
     "output_type": "stream",
     "text": [
      "Planet info: mars has 2 moons\n",
      "mars polar circunference 6752\n"
     ]
    }
   ],
   "source": [
    "planet = {\n",
    "    'name': 'mars',\n",
    "    'moons': 2\n",
    "\n",
    "}\n",
    "planetName = planet.get('name')\n",
    "planetMoons = planet.get('moons')\n",
    "\n",
    "print(f'Planet info: {planetName} has {planetMoons} moons')\n",
    "planet['planetPolar'] = 6752\n",
    "planet['planetEquatorial'] = 6792\n",
    "\n",
    "print(f\"{planetName} polar circunference {planet['planetPolar']}\")"
   ]
  },
  {
   "cell_type": "markdown",
   "metadata": {},
   "source": [
    "# Ejercicio 2: Programación dinámica con diccionarios"
   ]
  },
  {
   "cell_type": "code",
   "execution_count": 25,
   "metadata": {},
   "outputs": [
    {
     "name": "stdout",
     "output_type": "stream",
     "text": [
      "We have 12 planets\n",
      "This 12 planets have 214 moons in total\n",
      "We have an average number of moons in the milky way of: 17.833333333333332\n"
     ]
    }
   ],
   "source": [
    "#Valor del diccionario\n",
    "planet_moons = {\n",
    "    'mercury': 0,\n",
    "    'venus': 0,\n",
    "    'earth': 1,\n",
    "    'mars': 2,\n",
    "    'jupiter': 79,\n",
    "    'saturn': 82,\n",
    "    'uranus': 27,\n",
    "    'neptune': 14,\n",
    "    'pluto': 5,\n",
    "    'haumea': 2,\n",
    "    'makemake': 1,\n",
    "    'eris': 1\n",
    "}\n",
    "#Obtenemos el numero de planetas mendientea len y lo imprimimos\n",
    "planets = len(planet_moons)\n",
    "print(f'We have {planets} planets')\n",
    "\n",
    "#Le asignamos el valor 0 a total_moons\n",
    "total_moons = 0\n",
    "\n",
    "#Mendiante un for accedemos a los datos de planet_moons y a total_moons le asiganmos el valor de si misma + moons para obtener la suma de lunas\n",
    "for moons in planet_moons.values():\n",
    "    total_moons = total_moons + moons\n",
    "    \n",
    "#Imprimimos resultados\n",
    "print(f'This {planets} planets have {total_moons} moons in total')\n",
    "print (f'We have an average number of moons in the milky way of: {total_moons/planets}')"
   ]
  }
 ],
 "metadata": {
  "interpreter": {
   "hash": "b1fff2dcd6c25075ae81684535b0dce057eba6fffd0b19ed75a540af42201fab"
  },
  "kernelspec": {
   "display_name": "Python 3.10.2 64-bit",
   "language": "python",
   "name": "python3"
  },
  "language_info": {
   "codemirror_mode": {
    "name": "ipython",
    "version": 3
   },
   "file_extension": ".py",
   "mimetype": "text/x-python",
   "name": "python",
   "nbconvert_exporter": "python",
   "pygments_lexer": "ipython3",
   "version": "3.10.2"
  },
  "orig_nbformat": 4
 },
 "nbformat": 4,
 "nbformat_minor": 2
}
