{
 "cells": [
  {
   "cell_type": "markdown",
   "metadata": {},
   "source": [
    "# Ejercicio 1"
   ]
  },
  {
   "cell_type": "code",
   "execution_count": 19,
   "metadata": {},
   "outputs": [
    {
     "name": "stdout",
     "output_type": "stream",
     "text": [
      "628949330\n",
      "39057754\n"
     ]
    }
   ],
   "source": [
    "from math import ceil, floor\n",
    "\n",
    "earth = 149597870\n",
    "jupiter = 778547200\n",
    "distance = earth - jupiter\n",
    "print(abs(distance))\n",
    "\n",
    "distanceKm = abs(distance) * .0621\n",
    "print(ceil(distanceKm))\n"
   ]
  },
  {
   "cell_type": "markdown",
   "metadata": {},
   "source": [
    "# Ejercicio 2 "
   ]
  },
  {
   "cell_type": "code",
   "execution_count": 1,
   "metadata": {},
   "outputs": [
    {
     "name": "stdout",
     "output_type": "stream",
     "text": [
      "-198\n",
      "La distancia entre los planetas es:  122.958\n"
     ]
    }
   ],
   "source": [
    "#Inputs para introducir los datos\n",
    "planet1 = input(\"Write the first planet distance\")\n",
    "planet2 = input(\"Write the second planet distance\")\n",
    "\n",
    "#Convertimos los resultados en enteros\n",
    "convertInt1 = int(planet1)\n",
    "convertInt2 = int(planet2)\n",
    "#Operacion para obtener la distancia entre los dos planetas\n",
    "distance = convertInt1 - convertInt2\n",
    "print(distance)\n",
    "\n",
    "#Convertimos la distancia a millas\n",
    "distanceInM = abs(distance) * 0.621\n",
    "\n",
    "#Imprimimos el resultado\n",
    "print(\"La distancia entre los planetas es: \", str(distanceInM))"
   ]
  }
 ],
 "metadata": {
  "interpreter": {
   "hash": "b1fff2dcd6c25075ae81684535b0dce057eba6fffd0b19ed75a540af42201fab"
  },
  "kernelspec": {
   "display_name": "Python 3.10.2 64-bit",
   "language": "python",
   "name": "python3"
  },
  "language_info": {
   "codemirror_mode": {
    "name": "ipython",
    "version": 3
   },
   "file_extension": ".py",
   "mimetype": "text/x-python",
   "name": "python",
   "nbconvert_exporter": "python",
   "pygments_lexer": "ipython3",
   "version": "3.10.2"
  },
  "orig_nbformat": 4
 },
 "nbformat": 4,
 "nbformat_minor": 2
}
