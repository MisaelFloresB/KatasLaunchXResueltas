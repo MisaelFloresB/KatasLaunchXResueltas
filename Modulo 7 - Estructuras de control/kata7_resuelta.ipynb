{
 "cells": [
  {
   "cell_type": "markdown",
   "metadata": {},
   "source": [
    "# Ejercicio 1: Creación de un bucle \"while\""
   ]
  },
  {
   "cell_type": "code",
   "execution_count": 6,
   "metadata": {},
   "outputs": [
    {
     "name": "stdout",
     "output_type": "stream",
     "text": [
      "Tu introduciste el planeta: Earth\n",
      "Tu introduciste el planeta: Pluto\n",
      "Tu introduciste el planeta: Venus\n"
     ]
    }
   ],
   "source": [
    "#Declaracion de variables\n",
    "new_planet = ''\n",
    "planets =[]\n",
    "\n",
    "#Funcion while\n",
    "while new_planet.lower() != 'done':\n",
    "    #si se cumple while, creara una lista de planetas hasta que no intruduzca la palabra done en el sistema\n",
    "    if new_planet:\n",
    "        planets.append(new_planet)\n",
    "    new_planet = input('Enter a new planet, or done when done')\n",
    "\n",
    "#Creacion de For para poder mostrar los plentas\n",
    "for planet in planets:\n",
    "    print(f\"Planets: {planet}\")\n"
   ]
  }
 ],
 "metadata": {
  "interpreter": {
   "hash": "b1fff2dcd6c25075ae81684535b0dce057eba6fffd0b19ed75a540af42201fab"
  },
  "kernelspec": {
   "display_name": "Python 3.10.2 64-bit",
   "language": "python",
   "name": "python3"
  },
  "language_info": {
   "codemirror_mode": {
    "name": "ipython",
    "version": 3
   },
   "file_extension": ".py",
   "mimetype": "text/x-python",
   "name": "python",
   "nbconvert_exporter": "python",
   "pygments_lexer": "ipython3",
   "version": "3.10.2"
  },
  "orig_nbformat": 4
 },
 "nbformat": 4,
 "nbformat_minor": 2
}
