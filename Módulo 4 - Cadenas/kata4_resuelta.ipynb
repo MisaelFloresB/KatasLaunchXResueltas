{
 "cells": [
  {
   "cell_type": "markdown",
   "metadata": {},
   "source": [
    "# Ejercicio 1"
   ]
  },
  {
   "cell_type": "code",
   "execution_count": 1,
   "metadata": {},
   "outputs": [
    {
     "name": "stdout",
     "output_type": "stream",
     "text": [
      "['interesting facts about the moon', \"the moon is earth's only satellite\", 'there are several interesting facts about the moon and how it affects life here on earth', '\\non average, the moon moves 4cm away from the earth every year', 'this yearly drift is not significant enough to cause immediate effects on earth', 'the highest daylight temperature of the moon is 127 c.']\n",
      "\n",
      "on average, the moon moves 4cm away from the earth every year\n",
      "the highest daylight temperature of the moon is 127 c.\n",
      "the highest daylight temperature of the moon is 127 celsius.\n"
     ]
    }
   ],
   "source": [
    "text = \"\"\"Interesting facts about the Moon. The Moon is Earth's only satellite. There are several interesting facts about the Moon and how it affects life here on Earth. \n",
    "On average, the Moon moves 4cm away from the Earth every year. This yearly drift is not significant enough to cause immediate effects on Earth. The highest daylight temperature of the Moon is 127 C.\"\"\".lower()\n",
    "# Creamos la variable dividido para guardar el texto dividido en oraciones mediante el uso de split\n",
    "dividio = text.split('. ')\n",
    "print(dividio)\n",
    "#Creamos 3 varibales y les asignamos las palabras a buscar\n",
    "average = 'average'\n",
    "temperature = 'temperature'\n",
    "distance = 'distance'\n",
    "\n",
    "#Utilizamos for para poder imprimir datos que esten relacionados con la luna\n",
    "for hola in dividio:\n",
    "    if average in hola:\n",
    "        print(hola)\n",
    "    elif temperature in hola:\n",
    "        print(hola)\n",
    "        #Utilizamos replace() para reemplazar la letra c por celsius\n",
    "        print(hola.replace('c','celsius'))\n",
    "    elif distance in hola:\n",
    "        print(hola)"
   ]
  },
  {
   "cell_type": "markdown",
   "metadata": {},
   "source": [
    "# Ejercicio 2"
   ]
  },
  {
   "cell_type": "code",
   "execution_count": 145,
   "metadata": {},
   "outputs": [
    {
     "name": "stdout",
     "output_type": "stream",
     "text": [
      "Facts About Moon And Earth\"\n",
      "----------------------------------\n",
      "The Moon gravity is 1.6199999999999999, \n",
      "very different from the Earth\n",
      "\n"
     ]
    }
   ],
   "source": [
    "# Datos con los que vas a trabajar\n",
    "name = \"Moon\"\n",
    "gravity = 0.00162 # in kms\n",
    "planet = \"Earth\"\n",
    "gravityMeters = 0.00162 * 1000\n",
    "\n",
    "\n",
    "#titulo\n",
    "heading  = \"Facts about %s and %s\" %(name,planet)\n",
    "#Creamos el texto multilinea\n",
    "\n",
    "multiline = \"\"\"\"\n",
    "----------------------------------\n",
    "The %s gravity is %s, \n",
    "very different from the %s\n",
    "\"\"\" %(name, gravityMeters, planet)\n",
    "print(heading.title() + multiline)"
   ]
  },
  {
   "cell_type": "code",
   "execution_count": 153,
   "metadata": {},
   "outputs": [
    {
     "name": "stdout",
     "output_type": "stream",
     "text": [
      "Datos Acerca De Ganímedes\"\n",
      "----------------------------------\n",
      "Planeta: Marte  \n",
      "Gravedad en Ganímedes: 1.4300000000000002 m/s2\n"
     ]
    }
   ],
   "source": [
    "#Comprobamos con otros datos\n",
    "planeta = 'Marte '\n",
    "gravedad  = 0.00143\n",
    "gravedad2 = 0.00143 * 1000\n",
    "nombre = 'Ganímedes'\n",
    "\n",
    "titulo = \"Datos acerca de {}\".format(nombre)\n",
    "\n",
    "multiline2 = f\"\"\"\"\n",
    "----------------------------------\n",
    "Planeta: {planeta} \n",
    "Gravedad en {nombre}: \"\"\" + \"{} m/s2\".format(gravedad2)\n",
    "\n",
    "print(titulo.title() + multiline2)"
   ]
  }
 ],
 "metadata": {
  "interpreter": {
   "hash": "b1fff2dcd6c25075ae81684535b0dce057eba6fffd0b19ed75a540af42201fab"
  },
  "kernelspec": {
   "display_name": "Python 3.10.2 64-bit",
   "language": "python",
   "name": "python3"
  },
  "language_info": {
   "codemirror_mode": {
    "name": "ipython",
    "version": 3
   },
   "file_extension": ".py",
   "mimetype": "text/x-python",
   "name": "python",
   "nbconvert_exporter": "python",
   "pygments_lexer": "ipython3",
   "version": "3.10.2"
  },
  "orig_nbformat": 4
 },
 "nbformat": 4,
 "nbformat_minor": 2
}
